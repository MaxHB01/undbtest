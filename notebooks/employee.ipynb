{
 "cells": [
  {
   "cell_type": "code",
   "execution_count": 3,
   "metadata": {},
   "outputs": [],
   "source": [
    "import pandas as pd\n",
    "import sqlite3\n",
    "import pyodbc"
   ]
  },
  {
   "cell_type": "code",
   "execution_count": 5,
   "metadata": {},
   "outputs": [],
   "source": [
    "# Define the connection parameters for each database\n",
    "northwind_connection = pyodbc.connect('DRIVER={SQL Server};'\n",
    "                                      'SERVER=MAX-PC-DEC-2023\\SQLEXPRESS;'\n",
    "                                      'DATABASE=NorthWind;'\n",
    "                                      'Trusted_Connection=yes;')\n",
    "\n",
    "adventure_connection = pyodbc.connect('DRIVER={SQL Server};'\n",
    "                                      'SERVER=MAX-PC-DEC-2023\\SQLEXPRESS;'\n",
    "                                      'DATABASE=AdventureWorks2019;'\n",
    "                                      'Trusted_Connection=yes;')\n",
    "\n",
    "aenc_connection = sqlite3.connect('/path/to/aenc.sqlite')  # Update the path to your SQLite database file"
   ]
  },
  {
   "cell_type": "code",
   "execution_count": 8,
   "metadata": {},
   "outputs": [],
   "source": [
    "northwind_query = \"\"\"\n",
    "SELECT EmployeeID AS Id, 'NW' AS Database, FirstName, LastName, Address, City, Region, PostalCode, Country, HomePhone AS PhoneNumber, NULL AS Sex, HireDate AS StartDate, ReportsTo AS ManagerId, NULL AS TerminationDate\n",
    "FROM Employees\n",
    "\"\"\""
   ]
  },
  {
   "cell_type": "code",
   "execution_count": 9,
   "metadata": {},
   "outputs": [],
   "source": [
    "adventure_query = \"\"\"\n",
    "SELECT BusinessEntityID AS Id, 'AW' AS Database, FirstName, LastName, AddressLine1 AS Address, City, StateProvinceName AS Region, PostalCode, CountryRegionCode AS Country, PhoneNumber, Gender AS Sex, HireDate AS StartDate, NULL AS ManagerId, NULL AS TerminationDate\n",
    "FROM HumanResources.Employee AS e\n",
    "JOIN Person.Person AS p ON e.BusinessEntityID = p.BusinessEntityID\n",
    "JOIN Person.BusinessEntityAddress AS bea ON p.BusinessEntityID = bea.BusinessEntityID\n",
    "JOIN Person.Address AS a ON bea.AddressID = a.AddressID\n",
    "JOIN Person.StateProvince AS sp ON a.StateProvinceID = sp.StateProvinceID\n",
    "JOIN Person.PersonPhone AS pp ON p.BusinessEntityID = pp.BusinessEntityID\n",
    "\"\"\""
   ]
  },
  {
   "cell_type": "code",
   "execution_count": 10,
   "metadata": {},
   "outputs": [],
   "source": [
    "aenc_query = \"\"\"\n",
    "SELECT e.EmployeeID AS Id, 'AENC' AS Database, e.FirstName, e.LastName, e.Address, e.City, s.StateName AS Region, e.PostalCode, e.Country, e.PhoneNumber, e.Sex, e.HireDate AS StartDate, e.ManagerID, e.TerminationDate\n",
    "FROM Employee e\n",
    "JOIN State s ON e.StateID = s.StateID\n",
    "\"\"\""
   ]
  },
  {
   "cell_type": "code",
   "execution_count": 15,
   "metadata": {},
   "outputs": [
    {
     "name": "stdout",
     "output_type": "stream",
     "text": [
      "An error occurred: Execution failed on sql '\n",
      "SELECT EmployeeID AS Id, 'NW' AS Database, FirstName, LastName, Address, City, Region, PostalCode, Country, HomePhone AS PhoneNumber, NULL AS Sex, HireDate AS StartDate, ReportsTo AS ManagerId, NULL AS TerminationDate\n",
      "FROM Employees\n",
      "': ('42000', \"[42000] [Microsoft][ODBC SQL Server Driver][SQL Server]Incorrect syntax near the keyword 'Database'. (156) (SQLExecDirectW)\")\n",
      "An error occurred: Execution failed on sql '\n",
      "SELECT BusinessEntityID AS Id, 'AW' AS Database, FirstName, LastName, AddressLine1 AS Address, City, StateProvinceName AS Region, PostalCode, CountryRegionCode AS Country, PhoneNumber, Gender AS Sex, HireDate AS StartDate, NULL AS ManagerId, NULL AS TerminationDate\n",
      "FROM HumanResources.Employee AS e\n",
      "JOIN Person.Person AS p ON e.BusinessEntityID = p.BusinessEntityID\n",
      "JOIN Person.BusinessEntityAddress AS bea ON p.BusinessEntityID = bea.BusinessEntityID\n",
      "JOIN Person.Address AS a ON bea.AddressID = a.AddressID\n",
      "JOIN Person.StateProvince AS sp ON a.StateProvinceID = sp.StateProvinceID\n",
      "JOIN Person.PersonPhone AS pp ON p.BusinessEntityID = pp.BusinessEntityID\n",
      "': ('42000', \"[42000] [Microsoft][ODBC SQL Server Driver][SQL Server]Incorrect syntax near the keyword 'Database'. (156) (SQLExecDirectW)\")\n",
      "An error occurred: Execution failed on sql '\n",
      "SELECT e.EmployeeID AS Id, 'AENC' AS Database, e.FirstName, e.LastName, e.Address, e.City, s.StateName AS Region, e.PostalCode, e.Country, e.PhoneNumber, e.Sex, e.HireDate AS StartDate, e.ManagerID, e.TerminationDate\n",
      "FROM Employee e\n",
      "JOIN State s ON e.StateID = s.StateID\n",
      "': no such column: e.EmployeeID\n",
      "Empty DataFrame\n",
      "Columns: []\n",
      "Index: []\n"
     ]
    },
    {
     "name": "stderr",
     "output_type": "stream",
     "text": [
      "C:\\Users\\Maxhb\\AppData\\Local\\Temp\\ipykernel_34052\\395828943.py:4: UserWarning: pandas only supports SQLAlchemy connectable (engine/connection) or database string URI or sqlite3 DBAPI2 connection. Other DBAPI2 objects are not tested. Please consider using SQLAlchemy.\n",
      "  return pd.read_sql_query(query, connection)\n",
      "C:\\Users\\Maxhb\\AppData\\Local\\Temp\\ipykernel_34052\\395828943.py:4: UserWarning: pandas only supports SQLAlchemy connectable (engine/connection) or database string URI or sqlite3 DBAPI2 connection. Other DBAPI2 objects are not tested. Please consider using SQLAlchemy.\n",
      "  return pd.read_sql_query(query, connection)\n"
     ]
    }
   ],
   "source": [
    "\n",
    "# Function to execute query and return data frame\n",
    "def fetch_data(query, connection):\n",
    "    try:\n",
    "        return pd.read_sql_query(query, connection)\n",
    "    except Exception as e:\n",
    "        print(f\"An error occurred: {e}\")\n",
    "        return pd.DataFrame()\n",
    "\n",
    "# Fetch data from databases\n",
    "northwind_data = fetch_data(northwind_query, northwind_connection)\n",
    "adventure_data = fetch_data(adventure_query, adventure_connection)\n",
    "aenc_data = fetch_data(aenc_query, aenc_connection)\n",
    "\n",
    "# Combine all data into a single DataFrame\n",
    "combined_data = pd.concat([northwind_data, adventure_data, aenc_data], ignore_index=True)\n",
    "\n",
    "# Display the combined data\n",
    "print(combined_data.head())\n",
    "\n",
    "# Optional: Save the combined data to a new SQL table or a CSV file\n",
    "# combined_data.to_csv('combined_employees.csv', index=False)"
   ]
  }
 ],
 "metadata": {
  "kernelspec": {
   "display_name": ".venv",
   "language": "python",
   "name": "python3"
  },
  "language_info": {
   "codemirror_mode": {
    "name": "ipython",
    "version": 3
   },
   "file_extension": ".py",
   "mimetype": "text/x-python",
   "name": "python",
   "nbconvert_exporter": "python",
   "pygments_lexer": "ipython3",
   "version": "3.12.2"
  }
 },
 "nbformat": 4,
 "nbformat_minor": 2
}
