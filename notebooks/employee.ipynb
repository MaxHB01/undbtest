{
 "cells": [
  {
   "cell_type": "code",
   "execution_count": 11,
   "metadata": {},
   "outputs": [],
   "source": [
    "import pandas as pd\n",
    "import sqlite3\n",
    "import pyodbc\n",
    "from sqlalchemy import create_engine\n",
    "import urllib"
   ]
  },
  {
   "cell_type": "code",
   "execution_count": 12,
   "metadata": {},
   "outputs": [],
   "source": [
    "#NorthWind database\n",
    "conn_str_nw = (\n",
    "    r'DRIVER={ODBC Driver 17 for SQL Server};'\n",
    "    r'SERVER=MAX-PC-DEC-2023\\SQLEXPRESS;'\n",
    "    r'DATABASE=northwind;'\n",
    "    r'Trusted_Connection=yes;'\n",
    ")\n",
    "\n",
    "# URL-encode the connection string\n",
    "quoted_conn_str_nw = urllib.parse.quote_plus(conn_str_nw)\n",
    "\n",
    "# Create the SQLAlchemy engine using the URL-encoded connection string\n",
    "engine_nw = create_engine(f\"mssql+pyodbc:///?odbc_connect={quoted_conn_str_nw}\")"
   ]
  },
  {
   "cell_type": "code",
   "execution_count": 13,
   "metadata": {},
   "outputs": [],
   "source": [
    "#Adventureworks database\n",
    "conn_str_aw = (\n",
    "    r'DRIVER={ODBC Driver 17 for SQL Server};'\n",
    "    r'SERVER=MAX-PC-DEC-2023\\SQLEXPRESS;'\n",
    "    r'DATABASE=Adventureworks2019;'\n",
    "    r'Trusted_Connection=yes;'\n",
    ")\n",
    "\n",
    "# URL-encode the connection string\n",
    "quoted_conn_str_aw = urllib.parse.quote_plus(conn_str_nw)\n",
    "\n",
    "# Create the SQLAlchemy engine using the URL-encoded connection string\n",
    "engine_aw = create_engine(f\"mssql+pyodbc:///?odbc_connect={quoted_conn_str_aw}\")"
   ]
  },
  {
   "cell_type": "code",
   "execution_count": 14,
   "metadata": {},
   "outputs": [],
   "source": [
    "engine_ae = create_engine('access+pyodbc:///?odbc_connect=' +\n",
    "    r'DRIVER={Microsoft Access Driver (*.mdb, *.accdb)};'\n",
    "    r'DBQ=C:\\\\Users\\\\Maxhb\\Documents\\\\GitHub\\\\UnitedOutdoors\\\\data\\\\aenc.accdb;')"
   ]
  },
  {
   "cell_type": "code",
   "execution_count": 15,
   "metadata": {},
   "outputs": [
    {
     "name": "stdout",
     "output_type": "stream",
     "text": [
      "An error occurred: Could not parse SQLAlchemy URL from string 'DRIVER={ODBC Driver 17 for SQL Server};SERVER=MAX-PC-DEC-2023\\SQLEXPRESS;DATABASE=northwind;Trusted_Connection=yes;'\n",
      "An error occurred: Could not parse SQLAlchemy URL from string 'DRIVER={ODBC Driver 17 for SQL Server};SERVER=MAX-PC-DEC-2023\\SQLEXPRESS;DATABASE=Adventureworks2019;Trusted_Connection=yes;'\n",
      "An error occurred: (pyodbc.Error) ('HY000', '[HY000] [Microsoft][ODBC Microsoft Access-stuurprogramma] Kan het bestand (onbekend) niet vinden. (-1811) (SQLDriverConnect); [HY000] [Microsoft][ODBC Microsoft Access-stuurprogramma] Kan het bestand (onbekend) niet vinden. (-1811)')\n",
      "(Background on this error at: https://sqlalche.me/e/20/dbapi)\n",
      "Empty DataFrame\n",
      "Columns: []\n",
      "Index: []\n"
     ]
    }
   ],
   "source": [
    "# SQL queries with updated aliases\n",
    "northwind_query = \"\"\"\n",
    "SELECT EmployeeID AS Id, 'NW' AS [Database], FirstName, LastName, Address, City, Region, PostalCode, Country, HomePhone AS PhoneNumber, NULL AS Sex, HireDate AS StartDate, ReportsTo AS ManagerId, NULL AS TerminationDate\n",
    "FROM Employees\n",
    "\"\"\"\n",
    "\n",
    "adventure_query = \"\"\"\n",
    "SELECT BusinessEntityID AS Id, 'AW' AS [Database], FirstName, LastName, AddressLine1 AS Address, City, StateProvinceName AS Region, PostalCode, CountryRegionCode AS Country, PhoneNumber, Gender AS Sex, HireDate AS StartDate, NULL AS ManagerId, NULL AS TerminationDate\n",
    "FROM HumanResources.Employee AS e\n",
    "JOIN Person.Person AS p ON e.BusinessEntityID = p.BusinessEntityID\n",
    "JOIN Person.BusinessEntityAddress AS bea ON p.BusinessEntityID = bea.BusinessEntityID\n",
    "JOIN Person.Address AS a ON bea.AddressID = a.AddressID\n",
    "JOIN Person.StateProvince AS sp ON a.StateProvinceID = sp.StateProvinceID\n",
    "JOIN Person.PersonPhone AS pp ON p.BusinessEntityID = pp.BusinessEntityID\n",
    "\"\"\"\n",
    "\n",
    "aenc_query = \"\"\"\n",
    "SELECT EmployeeID AS Id, 'AENC' AS [Database], FirstName, LastName, Address, City, StateName AS Region, PostalCode, Country, PhoneNumber, Sex, HireDate AS StartDate, ManagerID, TerminationDate\n",
    "FROM Employee\n",
    "JOIN State ON Employee.StateID = State.StateID\n",
    "\"\"\"\n",
    "\n",
    "# Function to execute query and return data frame\n",
    "def fetch_data(query, engine):\n",
    "    try:\n",
    "        return pd.read_sql_query(query, engine)\n",
    "    except Exception as e:\n",
    "        print(f\"An error occurred: {e}\")\n",
    "        return pd.DataFrame()\n",
    "\n",
    "# Fetch data from databases\n",
    "northwind_data = fetch_data(northwind_query, conn_str_nw)\n",
    "adventure_data = fetch_data(adventure_query, conn_str_aw)\n",
    "aenc_data = fetch_data(aenc_query, engine_ae)\n",
    "\n",
    "# Combine all data into a single DataFrame\n",
    "combined_data = pd.concat([northwind_data, adventure_data, aenc_data], ignore_index=True)\n",
    "\n",
    "# Display the combined data\n",
    "print(combined_data.head())\n",
    "\n",
    "# Optional: Save the combined data to a new SQL table or a CSV file\n",
    "# combined_data.to_csv('combined_employees.csv', index=False)"
   ]
  }
 ],
 "metadata": {
  "kernelspec": {
   "display_name": ".venv",
   "language": "python",
   "name": "python3"
  },
  "language_info": {
   "codemirror_mode": {
    "name": "ipython",
    "version": 3
   },
   "file_extension": ".py",
   "mimetype": "text/x-python",
   "name": "python",
   "nbconvert_exporter": "python",
   "pygments_lexer": "ipython3",
   "version": "3.12.2"
  }
 },
 "nbformat": 4,
 "nbformat_minor": 2
}
